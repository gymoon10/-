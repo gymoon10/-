{
  "nbformat": 4,
  "nbformat_minor": 0,
  "metadata": {
    "colab": {
      "name": "[Appendix] MM Detection Config 대분류 및 주요 설정.ipynb",
      "provenance": []
    },
    "kernelspec": {
      "name": "python3",
      "display_name": "Python 3"
    },
    "language_info": {
      "name": "python"
    }
  },
  "cells": [
    {
      "cell_type": "markdown",
      "metadata": {
        "id": "QOcwxpIHsd_7"
      },
      "source": [
        "참고 : https://mmdetection.readthedocs.io/en/latest/"
      ]
    },
    {
      "cell_type": "markdown",
      "metadata": {
        "id": "1JZT8npEw7HH"
      },
      "source": [
        "### 대분류"
      ]
    },
    {
      "cell_type": "code",
      "metadata": {
        "id": "ZMxeolceueSK"
      },
      "source": [
        "from mmcv import Config\n",
        "\n",
        "# Config 파일\n",
        "config_file = '/content/mmdetection/configs/faster_rcnn/faster_rcnn_r50_fpn_1x_coco.py'\n",
        "\n",
        "cfg = Config.fromfile(config_file)\n",
        "print(cfg.pretty_text)"
      ],
      "execution_count": null,
      "outputs": []
    },
    {
      "cell_type": "markdown",
      "metadata": {
        "id": "Hmg3ZqqxseC5"
      },
      "source": [
        "**Dataset**\n",
        "\n",
        "- configs/base/datasets/ 참고\n",
        "\n",
        "- dataset의 type (CustomDataset, MS-COCO Dataset 등)\n",
        "\n",
        "- train/val/test dataset 유형\n",
        "\n",
        "- data_root, train/val/test의 주요 파라미터 수정 (type, ann_file, img_prefix, pipeline 등)\n",
        "\n",
        "- 필요에 맞게 overriding 하는 과정이 필요\n",
        "\n",
        "![image](https://user-images.githubusercontent.com/44194558/141888518-1aa3005f-dd97-4640-a3fe-f3c8a966a262.png)\n",
        "\n",
        "<br/>\n",
        "\n",
        "**Model**\n",
        "\n",
        "- configs/base/models/ 참고\n",
        "\n",
        "- Object Detection 모델의 backbone, neck, dense head, roi extractor, roi head에대한 세부 설정\n",
        "\n",
        "![image](https://user-images.githubusercontent.com/44194558/141888894-29b530d9-3c40-43c2-99c4-ed84f732ce73.png)\n",
        "\n",
        "<br/>\n",
        "\n",
        "**Schedule**\n",
        "\n",
        "- /configs/schedules/schedules_1x.py 참고\n",
        "\n",
        "- Optimizer 유형 설정, 학습률 설정\n",
        "\n",
        "- 학습 중 동적 학습률 적용 정책 설정 (step, cyclic, CosineAnnealing 등)\n",
        "\n",
        "- epoch 수\n",
        "\n",
        "![image](https://user-images.githubusercontent.com/44194558/141889204-159339ff-bcad-4d3c-abb7-e2113f401626.png)\n",
        "\n",
        "<br/>\n",
        "\n",
        "**Runtime**\n",
        "\n",
        "- /configs/default_runtime.py 참고\n",
        "\n",
        "- 학습 중 checkpoint 파일, log 파일 생성을 위한 interval epochs 수\n"
      ]
    },
    {
      "cell_type": "markdown",
      "metadata": {
        "id": "jt7_CSN7seGD"
      },
      "source": [
        "### Data Pipeline 구성\n",
        "\n"
      ]
    },
    {
      "cell_type": "markdown",
      "metadata": {
        "id": "zuvvDzXPseJp"
      },
      "source": [
        "\n",
        "\n",
        "![image](https://user-images.githubusercontent.com/44194558/141890110-e41332c2-1242-4488-9b70-d48c78d51922.png)\n",
        "\n",
        "순차적으로 pipeline이 진행 될 때마다 개별 작업은 새로운 key 값을 추가하거나(녹색), 기존 key 값을 갱신(주황색)\n",
        "\n",
        "<br/>\n",
        "\n",
        "\n",
        "![image](https://user-images.githubusercontent.com/44194558/141891254-3fd689de-8b54-40fd-a854-33a5ae924fb5.png)\n",
        "\n",
        "<br/>\n",
        "\n",
        "![image](https://user-images.githubusercontent.com/44194558/141891321-a88543a2-8bd0-4279-be1c-393f0a3b7f4e.png)\n",
        "\n"
      ]
    }
  ]
}